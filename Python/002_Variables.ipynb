{
 "cells": [
  {
   "cell_type": "code",
   "execution_count": null,
   "id": "54c09cf0",
   "metadata": {},
   "outputs": [],
   "source": [
    "# Varaiables are used to store the information for reusage purpose of a value\n",
    "\n",
    "a = 100  # here 'a' is variable"
   ]
  },
  {
   "cell_type": "code",
   "execution_count": 1,
   "id": "2a0d8562",
   "metadata": {},
   "outputs": [
    {
     "name": "stdout",
     "output_type": "stream",
     "text": [
      "age :  32\n",
      "height :  5.8\n",
      "name :  Ravi\n"
     ]
    }
   ],
   "source": [
    "# Varaiables declaration\n",
    "\n",
    "age = 32\n",
    "height = 5.8\n",
    "name = 'Ravi'\n",
    "is_student = True\n",
    "\n",
    "# printing statments using variables\n",
    "\n",
    "print('age : ', age)\n",
    "print('height : ', height)\n",
    "print('name : ', name)"
   ]
  },
  {
   "cell_type": "code",
   "execution_count": 2,
   "id": "4cb41428",
   "metadata": {},
   "outputs": [],
   "source": [
    "# Naming Conventions \n",
    "\n",
    "# variables names should be descriptive\n",
    "# they must start with a letter or an underscore and con contain letters, numbers and underscores\n",
    "# variables names are case sensitive\n",
    "\n",
    "# valid varaibles names\n",
    "first_name = \"krmn\"\n",
    "last_name = \"nmrk\"\n"
   ]
  },
  {
   "cell_type": "code",
   "execution_count": 3,
   "id": "d7e3e5de",
   "metadata": {},
   "outputs": [],
   "source": [
    "# Invalid variable names\n",
    "\n",
    "# 2age\n",
    "# first-name\n"
   ]
  },
  {
   "cell_type": "code",
   "execution_count": 6,
   "id": "dde2b2be",
   "metadata": {},
   "outputs": [
    {
     "name": "stdout",
     "output_type": "stream",
     "text": [
      "<class 'int'>\n",
      "<class 'float'>\n",
      "<class 'str'>\n",
      "<class 'bool'>\n"
     ]
    }
   ],
   "source": [
    "# Variable Types\n",
    "\n",
    "# Python is dynamically typed. type of variable is determined at runtime\n",
    "\n",
    "print(type(age))\n",
    "print(type(height))\n",
    "print(type(name))\n",
    "print(type(is_student))"
   ]
  },
  {
   "cell_type": "code",
   "execution_count": 7,
   "id": "b2911bb6",
   "metadata": {},
   "outputs": [
    {
     "name": "stdout",
     "output_type": "stream",
     "text": [
      "24 24\n"
     ]
    }
   ],
   "source": [
    "# Type conversion\n",
    "\n",
    "age = 24\n",
    "\n",
    "age_str = str(age)\n",
    "print(age, age_str)"
   ]
  },
  {
   "cell_type": "code",
   "execution_count": 8,
   "id": "1a14a111",
   "metadata": {},
   "outputs": [
    {
     "name": "stdout",
     "output_type": "stream",
     "text": [
      "<class 'int'> <class 'str'>\n"
     ]
    }
   ],
   "source": [
    "print(type(age), type(age_str))"
   ]
  },
  {
   "cell_type": "code",
   "execution_count": 9,
   "id": "ae80828f",
   "metadata": {},
   "outputs": [
    {
     "name": "stdout",
     "output_type": "stream",
     "text": [
      "<class 'str'>\n"
     ]
    }
   ],
   "source": [
    "age = '25'\n",
    "print(type(age))"
   ]
  },
  {
   "cell_type": "code",
   "execution_count": 10,
   "id": "85c00d91",
   "metadata": {},
   "outputs": [
    {
     "name": "stdout",
     "output_type": "stream",
     "text": [
      "25 <class 'int'>\n"
     ]
    }
   ],
   "source": [
    "age_int = int(age)\n",
    "print(age_int, type(age_int))"
   ]
  },
  {
   "cell_type": "code",
   "execution_count": 11,
   "id": "44765d61",
   "metadata": {},
   "outputs": [
    {
     "name": "stdout",
     "output_type": "stream",
     "text": [
      "Hello <class 'str'>\n"
     ]
    }
   ],
   "source": [
    "# Dynamic Typing\n",
    "\n",
    "var = 'Hello'\n",
    "print(var, type(var))"
   ]
  },
  {
   "cell_type": "code",
   "execution_count": 12,
   "id": "292ede0a",
   "metadata": {},
   "outputs": [
    {
     "name": "stdout",
     "output_type": "stream",
     "text": [
      "24 <class 'int'>\n",
      "2.0 <class 'float'>\n"
     ]
    }
   ],
   "source": [
    "var = 24\n",
    "print(var, type(var))\n",
    "\n",
    "var = 2.0\n",
    "print(var, type(var))"
   ]
  },
  {
   "cell_type": "code",
   "execution_count": 15,
   "id": "c73dda0b",
   "metadata": {},
   "outputs": [
    {
     "name": "stdout",
     "output_type": "stream",
     "text": [
      "First Number is  6.0\n",
      "Second Number is  4.0\n",
      "Sum :  10.0\n",
      "Difference :  2.0\n",
      "Product 24.0\n",
      "Quotient 1.5\n"
     ]
    }
   ],
   "source": [
    "num1 = float(input(\"Enter first number : \"))\n",
    "print(\"First Number is \", num1)\n",
    "num2 = float(input(\"Enter second number : \"))\n",
    "print(\"Second Number is \", num2)\n",
    "\n",
    "sum = num1 + num2\n",
    "difference = num1 - num2\n",
    "product = num1 * num2\n",
    "quotient = num1 / num2\n",
    "\n",
    "print(\"Sum : \", sum)\n",
    "print(\"Difference : \", difference)\n",
    "print(\"Product\", product)\n",
    "print(\"Quotient\", quotient)"
   ]
  },
  {
   "cell_type": "code",
   "execution_count": null,
   "id": "6ba5aa53",
   "metadata": {},
   "outputs": [],
   "source": []
  }
 ],
 "metadata": {
  "kernelspec": {
   "display_name": "conda_py_venv_3.13",
   "language": "python",
   "name": "python3"
  },
  "language_info": {
   "codemirror_mode": {
    "name": "ipython",
    "version": 3
   },
   "file_extension": ".py",
   "mimetype": "text/x-python",
   "name": "python",
   "nbconvert_exporter": "python",
   "pygments_lexer": "ipython3",
   "version": "3.13.0"
  }
 },
 "nbformat": 4,
 "nbformat_minor": 5
}
