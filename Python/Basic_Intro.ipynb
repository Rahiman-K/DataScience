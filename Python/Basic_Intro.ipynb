{
 "cells": [
  {
   "cell_type": "markdown",
   "id": "7a4368a7",
   "metadata": {},
   "source": [
    "#### Syntax and Semantics in Python\n",
    "\n",
    "Syntax is like Formula and Semantics means is like rules to use formula\n"
   ]
  },
  {
   "cell_type": "code",
   "execution_count": 1,
   "id": "ad89485c",
   "metadata": {},
   "outputs": [],
   "source": [
    "# This is Single line Comment"
   ]
  },
  {
   "cell_type": "code",
   "execution_count": 2,
   "id": "901aa085",
   "metadata": {},
   "outputs": [
    {
     "data": {
      "text/plain": [
       "' These are multi line comments\\n    which ignore by python compiler\\n'"
      ]
     },
     "execution_count": 2,
     "metadata": {},
     "output_type": "execute_result"
    }
   ],
   "source": [
    "\"\"\" These are multi line comments\n",
    "    which ignore by python compiler\n",
    "\"\"\""
   ]
  },
  {
   "cell_type": "markdown",
   "id": "a4c6c927",
   "metadata": {},
   "source": [
    "#### Case Sensitive"
   ]
  },
  {
   "cell_type": "code",
   "execution_count": 3,
   "id": "d9ad8d09",
   "metadata": {},
   "outputs": [],
   "source": [
    "# object is different\n",
    "object = \"Any Thing that is refers to\"\n",
    "\n",
    "# Object is different\n",
    "Object = \"To oppose any opinion\" "
   ]
  },
  {
   "cell_type": "markdown",
   "id": "2f687d1a",
   "metadata": {},
   "source": [
    "#### Identation"
   ]
  },
  {
   "cell_type": "code",
   "execution_count": 4,
   "id": "cd4e8ba9",
   "metadata": {},
   "outputs": [
    {
     "name": "stdout",
     "output_type": "stream",
     "text": [
      "14\n",
      "The person is teen\n"
     ]
    }
   ],
   "source": [
    "age = int(input(\"Enter age : \"))\n",
    "print(age)\n",
    "if age > 12 and age < 20:\n",
    "    print(\"The person is teen\")  # here after colon in before line.. the print statment strated after 4 space which says identation and it has to be followed in python as part of strucuture. \n",
    "else:\n",
    "    print(\"The person is not teen\")"
   ]
  },
  {
   "cell_type": "markdown",
   "id": "8cc47e67",
   "metadata": {},
   "source": [
    "#### Line Continuation"
   ]
  },
  {
   "cell_type": "code",
   "execution_count": 5,
   "id": "a3e6ee9e",
   "metadata": {},
   "outputs": [
    {
     "name": "stdout",
     "output_type": "stream",
     "text": [
      "55\n"
     ]
    }
   ],
   "source": [
    "## line continuation\n",
    "total = 1+2+3+4+5+6+7+\\\n",
    "    8+9+10  # The back slash '\\' in above line is used to for continuity\n",
    "print(total)\n"
   ]
  },
  {
   "cell_type": "markdown",
   "id": "b20937f6",
   "metadata": {},
   "source": [
    "#### Multiple code in single line"
   ]
  },
  {
   "cell_type": "code",
   "execution_count": 6,
   "id": "94d56156",
   "metadata": {},
   "outputs": [
    {
     "name": "stdout",
     "output_type": "stream",
     "text": [
      "7\n"
     ]
    }
   ],
   "source": [
    "x = 5; y = 10; z = 12\n",
    "print(z-y+x)"
   ]
  },
  {
   "cell_type": "code",
   "execution_count": 7,
   "id": "958d2347",
   "metadata": {},
   "outputs": [],
   "source": [
    "age = 32"
   ]
  },
  {
   "cell_type": "code",
   "execution_count": 8,
   "id": "53821934",
   "metadata": {},
   "outputs": [
    {
     "name": "stdout",
     "output_type": "stream",
     "text": [
      "32 <class 'int'>\n"
     ]
    }
   ],
   "source": [
    "print(age, type(age))"
   ]
  },
  {
   "cell_type": "code",
   "execution_count": 9,
   "id": "d8f7bb6f",
   "metadata": {},
   "outputs": [
    {
     "name": "stdout",
     "output_type": "stream",
     "text": [
      "<class 'str'>\n"
     ]
    }
   ],
   "source": [
    "print(type(Object))"
   ]
  },
  {
   "cell_type": "code",
   "execution_count": 10,
   "id": "4c3815e6",
   "metadata": {},
   "outputs": [
    {
     "name": "stdout",
     "output_type": "stream",
     "text": [
      "<class 'int'>\n",
      "<class 'str'>\n"
     ]
    }
   ],
   "source": [
    "# Type inference\n",
    "\n",
    "variable = 10\n",
    "print(type(variable))\n",
    "variable = Object\n",
    "print(type(variable))"
   ]
  }
 ],
 "metadata": {
  "kernelspec": {
   "display_name": "conda_py_venv_3.13",
   "language": "python",
   "name": "python3"
  },
  "language_info": {
   "codemirror_mode": {
    "name": "ipython",
    "version": 3
   },
   "file_extension": ".py",
   "mimetype": "text/x-python",
   "name": "python",
   "nbconvert_exporter": "python",
   "pygments_lexer": "ipython3",
   "version": "3.13.0"
  }
 },
 "nbformat": 4,
 "nbformat_minor": 5
}
